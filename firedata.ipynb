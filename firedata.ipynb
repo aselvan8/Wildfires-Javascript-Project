{
 "cells": [
  {
   "cell_type": "code",
   "execution_count": null,
   "metadata": {},
   "outputs": [],
   "source": [
    "import pandas as pd\n",
    "import pymongo\n",
    "import numpy as np\n",
    "import sqlalchemy\n"
   ]
  },
  {
   "cell_type": "code",
   "execution_count": null,
   "metadata": {},
   "outputs": [],
   "source": [
    "firedata_file = \"National_USFS_Fire_Occurrence_Point__Feature_Layer_.csv\"\n",
    "fire_df = pd.read_csv(firedata_file)\n",
    "fire_df.head()"
   ]
  },
  {
   "cell_type": "code",
   "execution_count": null,
   "metadata": {},
   "outputs": [],
   "source": [
    "filtered_fire_df = fire_df[fire_df['FIREYEAR'] >=2010.0]\n",
    "filtered_fire_df\n",
    "\n",
    "\n"
   ]
  },
  {
   "cell_type": "code",
   "execution_count": null,
   "metadata": {},
   "outputs": [],
   "source": [
    "filtered_fire_df1 = filtered_fire_df[filtered_fire_df['TOTALACRES'] > 500]\n",
    "filtered_fire_df1"
   ]
  },
  {
   "cell_type": "code",
   "execution_count": null,
   "metadata": {},
   "outputs": [],
   "source": [
    "filtered_fire_df1['STATCAUSE'].unique()"
   ]
  },
  {
   "cell_type": "code",
   "execution_count": null,
   "metadata": {},
   "outputs": [],
   "source": [
    "filtered_fire_df1['STATCAUSE'] = filtered_fire_df1['STATCAUSE'].replace({1.0 :'1 - Lightning',\n",
    "                                                                         '1': '1 - Lightning',\n",
    "                                                                         '1 -  Lightning': '1 - Lightning',\n",
    "                                                                         'Lightning':'1 - Lightning',\n",
    "                                                                         2.0 :'2 - Equipment Use',\n",
    "                                                                         '2 -  Equipment Use':'2 - Equipment Use',\n",
    "                                                                         '2':'2 - Equipment Use',\n",
    "                                                                         0 : '0 - Unknown',\n",
    "                                                                         ' -  ':'0 - Unknown',\n",
    "                                                                         np.nan:'0 - Unknown',\n",
    "                                                                         3.0:'3 - Smoking',\n",
    "                                                                         4.0:'4 - Campfire',\n",
    "                                                                         'Campfire':'4 - Campfire',\n",
    "                                                                         '4 -  Campfire':'4 - Campfire',\n",
    "                                                                         '4':'4 - Campfire',\n",
    "                                                                         5.0:'5 - Debris Burning',\n",
    "                                                                         '5 -  Debris Burning':'5 - Debris Burning',\n",
    "                                                                         '5':'5 - Debris Burning',\n",
    "                                                                         'Debris Burning':'5 - Debris Burning',\n",
    "                                                                         6.0:'6 - Railroad',\n",
    "                                                                         '6':'6 - Railroad',\n",
    "                                                                         7.0:'7 - Arson',\n",
    "                                                                         'Arson':'7 - Arson',\n",
    "                                                                         '7 -  Arson':'7 - Arson',\n",
    "                                                                         '7':'7 - Arson',\n",
    "                                                                         8:'8 - Children',\n",
    "                                                                         9.0:'9 - Miscellaneous',\n",
    "                                                                         '9 -  Miscellaneous':'9 - Miscellaneous',\n",
    "                                                                         '9':'9 - Miscellaneous',\n",
    "                                                                         'Miscellaneous':'9 - Miscellaneous',\n",
    "                                                                         11:'9 - Miscellaneous',\n",
    "                                                                         '11':'9 - Miscellaneous',\n",
    "                                                                         '12':'9 - Miscellaneous',\n",
    "                                                                         '13':'9 - Miscellaneous',\n",
    "                                                                         13:'9 - Miscellaneous'})\n",
    "\n"
   ]
  },
  {
   "cell_type": "code",
   "execution_count": null,
   "metadata": {},
   "outputs": [],
   "source": [
    "filtered_fire_df1 = filtered_fire_df1.replace({np.nan :''})"
   ]
  },
  {
   "cell_type": "code",
   "execution_count": null,
   "metadata": {},
   "outputs": [],
   "source": [
    "filtered_fire_df1.groupby(['STATCAUSE']).count()"
   ]
  },
  {
   "cell_type": "code",
   "execution_count": null,
   "metadata": {},
   "outputs": [],
   "source": [
    "conn = 'mongodb://localhost:27017'\n",
    "client = pymongo.MongoClient(conn)\n",
    "\n",
    "db = client.fire_db"
   ]
  },
  {
   "cell_type": "code",
   "execution_count": null,
   "metadata": {},
   "outputs": [],
   "source": [
    "db.filtered_fire.insert_many(filtered_fire_df1.to_dict('records'))"
   ]
  },
  {
   "cell_type": "code",
   "execution_count": null,
   "metadata": {},
   "outputs": [],
   "source": [
    "filtered_fire_df1.to_csv('filtered_fire.csv', sep=',', encoding='utf-8')"
   ]
  }
 ],
 "metadata": {
  "kernelspec": {
   "display_name": "Python [conda env:PythonData] *",
   "language": "python",
   "name": "conda-env-PythonData-py"
  },
  "language_info": {
   "codemirror_mode": {
    "name": "ipython",
    "version": 3
   },
   "file_extension": ".py",
   "mimetype": "text/x-python",
   "name": "python",
   "nbconvert_exporter": "python",
   "pygments_lexer": "ipython3",
   "version": "3.8.3"
  }
 },
 "nbformat": 4,
 "nbformat_minor": 4
}
